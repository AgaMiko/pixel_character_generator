{
 "cells": [
  {
   "cell_type": "markdown",
   "metadata": {},
   "source": [
    "# Download random character\n",
    "Use BeautifulSoup and Selenium to download random spritesheet character from http://gaurav.munjal.us/Universal-LPC-Spritesheet-Character-Generator/"
   ]
  },
  {
   "cell_type": "code",
   "execution_count": null,
   "metadata": {},
   "outputs": [],
   "source": [
    "import os\n",
    "from datetime import datetime\n",
    "import time\n",
    "import random\n",
    "from selenium import webdriver\n",
    "import shutil\n",
    "import glob\n",
    "random.seed(datetime.now())\n",
    "import requests\n",
    "from bs4 import BeautifulSoup"
   ]
  },
  {
   "cell_type": "code",
   "execution_count": null,
   "metadata": {
    "scrolled": true
   },
   "outputs": [],
   "source": [
    "BASE_URL = \"http://gaurav.munjal.us/Universal-LPC-Spritesheet-Character-Generator/#?\"\n",
    "DOWNLOAD_DIR = 'Downloads/*'\n",
    "CHROME_DIR = 'chromedriver.exe'\n",
    "SAVE_DIR = 'rpg_char/'"
   ]
  },
  {
   "cell_type": "code",
   "execution_count": null,
   "metadata": {},
   "outputs": [],
   "source": [
    "page = requests.get(BASE_URL)\n",
    "soup = BeautifulSoup(page.content, 'html.parser')\n",
    "print(soup.prettify())"
   ]
  },
  {
   "cell_type": "code",
   "execution_count": null,
   "metadata": {},
   "outputs": [],
   "source": [
    "all_items=[]\n",
    "names=[]\n",
    "labels = soup.find_all('li')\n",
    "for label in labels:\n",
    "    name=str(label).split('name=\"',1)\n",
    "    if len(name)>1:\n",
    "        name = name[1]\n",
    "    \n",
    "        \n",
    "    option = str(label.find_all('label')).split('-',1)\n",
    "\n",
    "    if len(option)>1:\n",
    "        option=option[1]\n",
    "        \n",
    "    name_opt=str(name).split('\"',1)[0]+'#'+str(option).split('\"',1)[0]\n",
    "    names.append(str(name).split('\"',1)[0])\n",
    "    all_items.append(name_opt)\n",
    "\n",
    "\n",
    "    \n",
    "all_items=list(set(all_items))\n",
    "names = list(set(names))\n",
    "\n",
    "prefixes = ('hair-', 'hairs','[',\"'\")\n",
    "forbidden ='<'\n",
    "for word in names[:]:\n",
    "    if word.startswith(prefixes):\n",
    "        names.remove(word)\n",
    "for word in all_items[:]:\n",
    "    if word.startswith(prefixes) or forbidden in word:\n",
    "        all_items.remove(word)\n",
    "\n",
    "\n",
    "print(len(all_items))\n",
    "print(len(names))\n",
    "categories=names\n",
    "#print(all_items)"
   ]
  },
  {
   "cell_type": "code",
   "execution_count": null,
   "metadata": {
    "scrolled": true
   },
   "outputs": [],
   "source": [
    "labels = soup.find_all('li')\n",
    "only_male=[]\n",
    "only_female=[]\n",
    "for label in labels:\n",
    "    if len(str(label).split('data-required=\"sex=',1))>1:\n",
    "        sex = str(label).split('data-required=\"sex=',1)[1].split('\" id=',1)[0]\n",
    "\n",
    "        equipment = str(label.find_all('label')).split('-',1)\n",
    "        if len(equipment)>1:\n",
    "             equipment=equipment[1]\n",
    "\n",
    "        if sex == 'male':\n",
    "            only_male.append(str(equipment).split('\"',1)[0])\n",
    "        elif sex == 'female':\n",
    "            only_female.append(str(equipment).split('\"',1)[0])\n",
    "            \n",
    "print(\"Found \", len(only_male), \" equipment parts only for men\")     \n",
    "print(\"Found \", len(only_female), \" equipment parts only for women\")  \n",
    "\n",
    "temp1 = [i for i in only_male if i not in only_female] \n",
    "only_female = [i for i in only_female if i not in only_male] \n",
    "only_male=temp1\n",
    "\n",
    "print(\"Found \", len(only_male), \" equipment parts only for men\")     \n",
    "print(\"Found \", len(only_female), \" equipment parts only for women\")  "
   ]
  },
  {
   "cell_type": "code",
   "execution_count": null,
   "metadata": {},
   "outputs": [],
   "source": [
    "result = [i for i in all_items if i.startswith(categories[1])]\n",
    "print(result)\n",
    "selected_option_nr = random.randint(0, len(result)-1)\n",
    "selected_option=result[selected_option_nr].split('#',1)[1]\n",
    "print(\"Selected option number: \",selected_option, \" which is: \", selected_option)\n",
    "print(\"Checking if its for men or women only...\")\n",
    "\n",
    "if selected_option in only_male:\n",
    "    print(\"Only for men!\")\n",
    "elif selected_option in only_female:\n",
    "    print(\"Only for women!\")\n",
    "else:\n",
    "    print(\"For anyone!\")\n",
    "    "
   ]
  },
  {
   "cell_type": "code",
   "execution_count": null,
   "metadata": {},
   "outputs": [],
   "source": [
    "def rand_item(item,options):\n",
    "    result = 0\n",
    "    result = [i for i in options if i.startswith(item)]\n",
    "    \n",
    "    if len(result) > 1:\n",
    "        selected_option = random.randint(0, len(result)-1)\n",
    "    else:\n",
    "        selected_option=0\n",
    "    \n",
    "    #print(result)\n",
    "\n",
    "    equipment = result[selected_option].split('#',1)\n",
    "    if len(equipment) > 1:\n",
    "        equipment = equipment[1]\n",
    "    #print(equipment)\n",
    "    return equipment\n",
    "\n",
    "def generate_URL(base_URL,item,option):\n",
    "    base_URL+=str(item+\"=\"+str(option)+\"&\")\n",
    "    return base_URL"
   ]
  },
  {
   "cell_type": "code",
   "execution_count": null,
   "metadata": {},
   "outputs": [],
   "source": [
    "def rand_URL(base_URL, minimum_equip=5,max_equip=15,must_equip=['body', 'sex'],catgories=categories, all_items=all_items):\n",
    "\n",
    "    must_equip_idx=[]\n",
    "\n",
    "    rand_len=random.randint(minimum_equip, max_equip)\n",
    "    rand_categories=random.sample(range(0, len(categories)), rand_len)\n",
    "\n",
    "    for eq in must_equip:\n",
    "        if categories.index(eq) not in rand_categories:\n",
    "            rand_categories.insert(0,categories.index(eq))\n",
    "        else:\n",
    "            rand_categories.insert(0, rand_categories.pop(rand_categories.index(categories.index(eq))))\n",
    "\n",
    "    sex = rand_item('sex',all_items)\n",
    "    equip_URL=str(base_URL)+'sex='+str(sex)+'&'\n",
    "    for category in rand_categories[1:]:\n",
    "        selected_option=rand_item(categories[category],all_items)\n",
    "        if equipment in only_male and sex == \"male\":\n",
    "            equip_URL = generate_URL(equip_URL,categories[category],selected_option)\n",
    "        elif equipment in only_female and sex == \"female\" :\n",
    "            equip_URL = generate_URL(equip_URL,categories[category],selected_option)\n",
    "        else:\n",
    "            equip_URL = generate_URL(equip_URL,categories[category],selected_option)\n",
    "    return equip_URL\n"
   ]
  },
  {
   "cell_type": "code",
   "execution_count": null,
   "metadata": {},
   "outputs": [],
   "source": [
    "driver = webdriver.Chrome(executable_path=CHROME_DIR)"
   ]
  },
  {
   "cell_type": "code",
   "execution_count": null,
   "metadata": {
    "scrolled": false
   },
   "outputs": [],
   "source": [
    "for i in range(8000,10000):\n",
    "    URL=rand_URL(BASE_URL,minimum_equip=7,max_equip=20,must_equip=['body','hair','sex'],catgories=categories, all_items=all_items)\n",
    "    print(URL)   \n",
    "    driver.get(URL)\n",
    "    time.sleep(5)\n",
    "    button = driver.find_element_by_xpath('//*[@id=\"saveAsPNG\"]')\n",
    "    button.click()\n",
    "    time.sleep(5)\n",
    "    \n",
    "    list_of_files = glob.glob(DOWNLOAD_DIR) # * means all if need specific format then *.csv\n",
    "    file = max(list_of_files, key=os.path.getctime)\n",
    "    if os.path.exists(file) and not os.path.isdir(file) and not os.path.islink(file):\n",
    "        if os.path.getsize(file) < 130 * 1024:\n",
    "            os.remove(file)\n",
    "            print(\"Deleted file...\")\n",
    "        else:\n",
    "            shutil.move(file, SAVE_DIR +str(i)+'.png')\n",
    "            print(\"Moved file\")"
   ]
  },
  {
   "cell_type": "code",
   "execution_count": null,
   "metadata": {},
   "outputs": [],
   "source": []
  },
  {
   "cell_type": "code",
   "execution_count": null,
   "metadata": {},
   "outputs": [],
   "source": []
  }
 ],
 "metadata": {
  "kernelspec": {
   "display_name": "Python 3",
   "language": "python",
   "name": "python3"
  },
  "language_info": {
   "codemirror_mode": {
    "name": "ipython",
    "version": 3
   },
   "file_extension": ".py",
   "mimetype": "text/x-python",
   "name": "python",
   "nbconvert_exporter": "python",
   "pygments_lexer": "ipython3",
   "version": "3.7.3"
  }
 },
 "nbformat": 4,
 "nbformat_minor": 2
}
