{
 "cells": [
  {
   "cell_type": "markdown",
   "metadata": {},
   "source": [
    "# Extract character from spritesheet"
   ]
  },
  {
   "cell_type": "code",
   "execution_count": null,
   "metadata": {},
   "outputs": [],
   "source": [
    "import os\n",
    "from datetime import datetime\n",
    "import time\n",
    "import random\n",
    "random.seed(datetime.now())"
   ]
  },
  {
   "cell_type": "code",
   "execution_count": null,
   "metadata": {
    "scrolled": true
   },
   "outputs": [],
   "source": [
    "from PIL import Image\n",
    "\n",
    "DIR ='datasets\\\\rpg_char'\n",
    "\n",
    "spritesheets=[]\n",
    "# r=root, d=directories, f = files\n",
    "for r, d, f in os.walk(DIR):\n",
    "    for file in f:\n",
    "        if file.endswith(\".png\"):\n",
    "            spritesheets.append(os.path.join(r, file))      "
   ]
  },
  {
   "cell_type": "code",
   "execution_count": null,
   "metadata": {},
   "outputs": [],
   "source": [
    "%pylab inline\n",
    "import matplotlib.pyplot as plt\n",
    "import matplotlib.image as mpimg\n",
    "\n",
    "start_h = 260\n",
    "start_w = 0\n",
    "char_h = 64\n",
    "char_w = 64\n",
    "no_chars = 4\n",
    "for i,spritesheet in enumerate(spritesheets):\n",
    "    for nr in range(no_chars):\n",
    "        image=mpimg.imread(spritesheet)\n",
    "        resized_im = image[start_h+char_h*nr:start_h+char_h*(nr+1),start_w:start_w+char_w,:]\n",
    "        \n",
    "        path = 'data\\\\'+str(nr)+'\\\\'\n",
    "        if not os.path.exists(path):\n",
    "            os.makedirs(path)\n",
    "            \n",
    "        plt.imsave(path+str(i)+'.png', resized_im)"
   ]
  },
  {
   "cell_type": "code",
   "execution_count": null,
   "metadata": {},
   "outputs": [],
   "source": []
  }
 ],
 "metadata": {
  "kernelspec": {
   "display_name": "Python 3",
   "language": "python",
   "name": "python3"
  },
  "language_info": {
   "codemirror_mode": {
    "name": "ipython",
    "version": 3
   },
   "file_extension": ".py",
   "mimetype": "text/x-python",
   "name": "python",
   "nbconvert_exporter": "python",
   "pygments_lexer": "ipython3",
   "version": "3.7.3"
  }
 },
 "nbformat": 4,
 "nbformat_minor": 2
}
